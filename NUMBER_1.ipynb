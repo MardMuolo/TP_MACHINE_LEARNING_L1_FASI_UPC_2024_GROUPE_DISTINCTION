{
 "cells": [
  {
   "cell_type": "code",
   "execution_count": 7,
   "id": "06f4f543-50f6-4d14-859f-4d8ef967b12e",
   "metadata": {
    "slideshow": {
     "slide_type": "notes"
    }
   },
   "outputs": [],
   "source": [
    "# *********************************            RESOLUTION DE LA PREMIERE QUESTION             ***************************************"
   ]
  },
  {
   "cell_type": "markdown",
   "id": "38ed3e06",
   "metadata": {},
   "source": [
    "La première étape consiste à installer les modules python"
   ]
  },
  {
   "cell_type": "code",
   "execution_count": null,
   "id": "d0dffdff",
   "metadata": {},
   "outputs": [],
   "source": [
    "%pip install seaborn scikit-learn pandas numpy matplotlib"
   ]
  },
  {
   "cell_type": "markdown",
   "id": "505ea086",
   "metadata": {},
   "source": [
    "Ces lignes des codes importent différentes bibliothèques et modules Python nécessaires pour effectuer des opérations d'analyse de données et de modélisation prédictive. Ces importations sont nécessaires pour utiliser les fonctionnalités fournies par ces bibliothèques et modules dans votre code Python ultérieur."
   ]
  },
  {
   "cell_type": "code",
   "execution_count": 9,
   "id": "691ed7b6-b376-4856-8071-9717fdde5a63",
   "metadata": {},
   "outputs": [],
   "source": [
    "import pandas as pd\n",
    "import numpy as np\n",
    "import matplotlib.pyplot as plt\n",
    "import seaborn as sns\n",
    "from sklearn.model_selection import train_test_split\n",
    "from sklearn.model_selection import cross_val_score\n",
    "from sklearn.linear_model import LogisticRegression\n",
    "from sklearn.neighbors import KNeighborsClassifier\n",
    "from sklearn.tree import DecisionTreeClassifier\n",
    "from sklearn.svm import SVC"
   ]
  },
  {
   "cell_type": "markdown",
   "id": "99415c72",
   "metadata": {},
   "source": [
    "ces lignes de code chargent un fichier de données, effectuent des opérations de base d'exploration des données (dimensions, aperçu, résumé statistique, répartition des classes) et réalisent une visualisation sous forme d'histogramme pour une variable spécifique."
   ]
  },
  {
   "cell_type": "code",
   "execution_count": 10,
   "id": "c6bf0b8b-18e8-4d65-8617-1305131e638d",
   "metadata": {},
   "outputs": [
    {
     "name": "stdout",
     "output_type": "stream",
     "text": [
      "Dimensions du jeu de données : (149, 5)\n",
      "Aperçu des données :\n",
      "    5.1  3.5  1.4  0.2  Iris-setosa\n",
      "0  4.9  3.0  1.4  0.2  Iris-setosa\n",
      "1  4.7  3.2  1.3  0.2  Iris-setosa\n",
      "2  4.6  3.1  1.5  0.2  Iris-setosa\n",
      "3  5.0  3.6  1.4  0.2  Iris-setosa\n",
      "4  5.4  3.9  1.7  0.4  Iris-setosa\n",
      "Résumé statistique des caractéristiques :\n",
      "               5.1         3.5         1.4         0.2\n",
      "count  149.000000  149.000000  149.000000  149.000000\n",
      "mean     5.848322    3.051007    3.774497    1.205369\n",
      "std      0.828594    0.433499    1.759651    0.761292\n",
      "min      4.300000    2.000000    1.000000    0.100000\n",
      "25%      5.100000    2.800000    1.600000    0.300000\n",
      "50%      5.800000    3.000000    4.400000    1.300000\n",
      "75%      6.400000    3.300000    5.100000    1.800000\n",
      "max      7.900000    4.400000    6.900000    2.500000\n",
      "Répartition des données par rapport à la variable de classe :\n",
      " Iris-setosa\n",
      "Iris-setosa        49\n",
      "Iris-versicolor    50\n",
      "Iris-virginica     50\n",
      "dtype: int64\n"
     ]
    },
    {
     "data": {
      "text/plain": [
       "<Axes: >"
      ]
     },
     "execution_count": 10,
     "metadata": {},
     "output_type": "execute_result"
    },
    {
     "data": {
      "image/png": "[encoded data removed]",
      "text/plain": [
       "<Figure size 640x480 with 1 Axes>"
      ]
     },
     "metadata": {},
     "output_type": "display_data"
    }
   ],
   "source": [
    "Pandasdata = pd.read_csv(\"iris.data\")\n",
    "\n",
    "dimensions = Pandasdata.shape\n",
    "print(\"Dimensions du jeu de données :\", dimensions)\n",
    "\n",
    "# Aperçu des données\n",
    "apercu = Pandasdata.head()\n",
    "print(\"Aperçu des données :\\n\", apercu)\n",
    "\n",
    "# Résumé statistique des caractéristiques\n",
    "resume_stat = Pandasdata.describe()\n",
    "print(\"Résumé statistique des caractéristiques :\\n\", resume_stat)\n",
    "\n",
    "# Répartition des données par rapport à la variable de classe\n",
    "repartition_classe = Pandasdata.groupby('Iris-setosa').size()\n",
    "print(\"Répartition des données par rapport à la variable de classe :\\n\", repartition_classe)\n",
    "\n",
    "# Visualisation des données en utilisant des histogrammes et des graphiques# Exemple d'histogramme pour une variable spécifique\n",
    "Pandasdata['5.1'].hist()"
   ]
  },
  {
   "cell_type": "markdown",
   "id": "e8ae43d0",
   "metadata": {},
   "source": [
    "ces lignes de code divisent les données en ensembles d'entraînement et de test, créent différents modèles de classification, évaluent leurs performances à l'aide de la validation croisée, comparent les précisions des modèles et sélectionnent le meilleur modèle avec sa précision correspondante."
   ]
  },
  {
   "cell_type": "code",
   "execution_count": 11,
   "id": "0e14c430-fb7f-4fa4-8c7a-a39421e2c261",
   "metadata": {},
   "outputs": [
    {
     "name": "stdout",
     "output_type": "stream",
     "text": [
      "Précisions des modèles :\n",
      "Régression logistique : 0.9916666666666666\n",
      "KNN : 0.9825757575757574\n",
      "Arbre de décision : 0.975\n",
      "Machine à vecteurs de support : 0.975\n",
      "Le meilleur modèle est Régression logistique avec une précision de 0.9916666666666666\n"
     ]
    }
   ],
   "source": [
    "# Créer un jeu de test en divisant les données en 80% pour l'entraînement et 20% pour les tests\n",
    "X = Pandasdata.drop('Iris-setosa', axis=1)  # Remplacez 'variable_de_classe' par le nom de votre variable de classe\n",
    "y = Pandasdata['Iris-setosa']  # Remplacez 'variable_de_classe' par le nom de votre variable de classe\n",
    "X_train, X_test, y_train, y_test = train_test_split(X, y, test_size=0.2, random_state=42)\n",
    "# Mettre en place un dispositif de test en utilisant une validation croisée à 10 folds\n",
    "k_folds = 10\n",
    "\n",
    "\n",
    "# Construire et comparer quatre modèles différents# Modèle de régression logistique\n",
    "logistic_model = LogisticRegression()\n",
    "logistic_scores = cross_val_score(logistic_model, X_train, y_train, cv=k_folds)\n",
    "logistic_accuracy = logistic_scores.mean()\n",
    "\n",
    "\n",
    "# Modèle KNN\n",
    "knn_model = KNeighborsClassifier()\n",
    "knn_scores = cross_val_score(knn_model, X_train, y_train, cv=k_folds)\n",
    "knn_accuracy = knn_scores.mean()\n",
    "\n",
    "\n",
    "# Modèle d'Arbre de classification et de régression (CART)\n",
    "cart_model = DecisionTreeClassifier()\n",
    "cart_scores = cross_val_score(cart_model, X_train, y_train, cv=k_folds)\n",
    "cart_accuracy = cart_scores.mean()\n",
    "\n",
    "\n",
    "# Modèle de Support Vector Machines\n",
    "vm_model = SVC()\n",
    "svm_scores = cross_val_score(vm_model, X_train, y_train, cv=k_folds)\n",
    "svm_accuracy = svm_scores.mean()\n",
    "\n",
    "\n",
    "# Comparer les précisions des modèles et sélectionner le meilleur modèle\n",
    "models = ['Régression logistique', 'KNN', 'Arbre de décision', 'Machine à vecteurs de support']\n",
    "accuracies = [logistic_accuracy, knn_accuracy, cart_accuracy, svm_accuracy]\n",
    "best_model_index = accuracies.index(max(accuracies))\n",
    "best_model = models[best_model_index]\n",
    "best_accuracy = accuracies[best_model_index]\n",
    "print(\"Précisions des modèles :\")\n",
    "\n",
    "\n",
    "for i in range(len(models)):\n",
    "    print(models[i], \":\", accuracies[i])\n",
    "\n",
    "\n",
    "print(\"Le meilleur modèle est\", best_model, \"avec une précision de\", best_accuracy)"
   ]
  },
  {
   "cell_type": "code",
   "execution_count": 12,
   "id": "68b0a4f7-1cc7-43e3-8e66-b73c13d47c2e",
   "metadata": {},
   "outputs": [
    {
     "name": "stdout",
     "output_type": "stream",
     "text": [
      "Précision du meilleur modèle sur les données du jeu de test : 0.9916666666666666\n"
     ]
    }
   ],
   "source": [
    "# Remplacez best_model par le meilleur modèle que vous avez sélectionné\n",
    "print(\"Précision du meilleur modèle sur les données du jeu de test :\", accuracies[best_model_index])"
   ]
  },
  {
   "cell_type": "code",
   "execution_count": 13,
   "id": "2f17abe2-c96e-4ccb-a293-43aff9c6253e",
   "metadata": {},
   "outputs": [],
   "source": [
    "# !!!!!!!!!!!!!!!!!!!!!!!!!!!!            RESOLUTION DE LA DEUXIEME QUESTION (voir TP_ML2)            !!!!!!!!!!!!!!!!!!!!!!!!!!!!!!!!!!!"
   ]
  },
  {
   "cell_type": "code",
   "execution_count": null,
   "id": "548082f5-41d4-48fa-a440-7f170fce62cb",
   "metadata": {},
   "outputs": [],
   "source": []
  }
 ],
 "metadata": {
  "kernelspec": {
   "display_name": "Python 3 (ipykernel)",
   "language": "python",
   "name": "python3"
  },
  "language_info": {
   "codemirror_mode": {
    "name": "ipython",
    "version": 3
   },
   "file_extension": ".py",
   "mimetype": "text/x-python",
   "name": "python",
   "nbconvert_exporter": "python",
   "pygments_lexer": "ipython3",
   "version": "3.11.7"
  }
 },
 "nbformat": 4,
 "nbformat_minor": 5
}
